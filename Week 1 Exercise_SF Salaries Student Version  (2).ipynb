{
 "cells": [
  {
   "cell_type": "markdown",
   "metadata": {
    "id": "TcIKaLLLXyT8"
   },
   "source": [
    "# Week 1 Exercise: SF Salaries \n",
    "\n"
   ]
  },
  {
   "cell_type": "markdown",
   "metadata": {
    "id": "weALGKXgXyUC"
   },
   "source": [
    "### Step 1: Import libraries: pandas and seaborn\n"
   ]
  },
  {
   "cell_type": "code",
   "execution_count": 3,
   "metadata": {
    "id": "sJWsYyHuXyUD"
   },
   "outputs": [],
   "source": [
    "import pandas as pd\n",
    "import seaborn as sns "
   ]
  },
  {
   "cell_type": "code",
   "execution_count": null,
   "metadata": {},
   "outputs": [],
   "source": []
  },
  {
   "cell_type": "markdown",
   "metadata": {
    "id": "hURqqDR8XyUE"
   },
   "source": [
    "### Step 2: Read Data\n",
    "\n",
    "##### code for reference\n",
    "\n",
    "#### If you are using Jupyter notebook:\n",
    "first save the salaries.csv to your local folder:\n",
    "\n",
    "sal = pd.read_csv(\"`your path here`/salaries.csv\")\n",
    "\n",
    "#### If you are using google colab, please mount your Google Drive on your runtime using an authorization code:\n",
    "from google.colab import drive\n",
    "\n",
    "drive.mount('/content/drive')\n",
    "\n",
    "path = '/content/drive/`your path here`/salaries.csv'\n",
    "\n",
    "sal = pd.read_csv(path)\n",
    "\n",
    "\n",
    "\n",
    "#### Feel free to use any other prefered IDEs for python.\n"
   ]
  },
  {
   "cell_type": "code",
   "execution_count": 4,
   "metadata": {
    "id": "YQbbt33cXyUF"
   },
   "outputs": [
    {
     "name": "stderr",
     "output_type": "stream",
     "text": [
      "C:\\Users\\apere\\AppData\\Local\\Temp\\ipykernel_9248\\1829207488.py:1: DtypeWarning: Columns (11) have mixed types. Specify dtype option on import or set low_memory=False.\n",
      "  sal = pd.read_csv('C:/Users/apere/OneDrive/Desktop/CIS 508/Salaries.csv')\n"
     ]
    }
   ],
   "source": [
    "sal = pd.read_csv('C:/Users/apere/OneDrive/Desktop/CIS 508/Salaries.csv')"
   ]
  },
  {
   "cell_type": "code",
   "execution_count": null,
   "metadata": {},
   "outputs": [],
   "source": []
  },
  {
   "cell_type": "markdown",
   "metadata": {
    "id": "QbZOmZ7oXyUF"
   },
   "source": [
    "### Step 3: Follow the instructions below and answer questions.\n",
    "\n"
   ]
  },
  {
   "cell_type": "markdown",
   "metadata": {
    "id": "jR72saJZhCGc"
   },
   "source": [
    "**Check the head of the DataFrame**\n",
    "##### code for reference:\n",
    "sal.head()\n"
   ]
  },
  {
   "cell_type": "code",
   "execution_count": 5,
   "metadata": {
    "id": "YZS1s2JoXyUG",
    "scrolled": true
   },
   "outputs": [
    {
     "data": {
      "text/html": [
       "<div>\n",
       "<style scoped>\n",
       "    .dataframe tbody tr th:only-of-type {\n",
       "        vertical-align: middle;\n",
       "    }\n",
       "\n",
       "    .dataframe tbody tr th {\n",
       "        vertical-align: top;\n",
       "    }\n",
       "\n",
       "    .dataframe thead th {\n",
       "        text-align: right;\n",
       "    }\n",
       "</style>\n",
       "<table border=\"1\" class=\"dataframe\">\n",
       "  <thead>\n",
       "    <tr style=\"text-align: right;\">\n",
       "      <th></th>\n",
       "      <th>Id</th>\n",
       "      <th>EmployeeName</th>\n",
       "      <th>JobTitle</th>\n",
       "      <th>BasePay</th>\n",
       "      <th>OvertimePay</th>\n",
       "      <th>OtherPay</th>\n",
       "      <th>Benefits</th>\n",
       "      <th>TotalPay</th>\n",
       "      <th>TotalPayBenefits</th>\n",
       "      <th>Year</th>\n",
       "      <th>Agency</th>\n",
       "      <th>Status</th>\n",
       "    </tr>\n",
       "  </thead>\n",
       "  <tbody>\n",
       "    <tr>\n",
       "      <th>0</th>\n",
       "      <td>1</td>\n",
       "      <td>NATHANIEL FORD</td>\n",
       "      <td>GENERAL MANAGER-METROPOLITAN TRANSIT AUTHORITY</td>\n",
       "      <td>167411.18</td>\n",
       "      <td>0.00</td>\n",
       "      <td>400184.25</td>\n",
       "      <td>NaN</td>\n",
       "      <td>567595.43</td>\n",
       "      <td>567595.43</td>\n",
       "      <td>2011</td>\n",
       "      <td>San Francisco</td>\n",
       "      <td>NaN</td>\n",
       "    </tr>\n",
       "    <tr>\n",
       "      <th>1</th>\n",
       "      <td>2</td>\n",
       "      <td>GARY JIMENEZ</td>\n",
       "      <td>CAPTAIN III (POLICE DEPARTMENT)</td>\n",
       "      <td>155966.02</td>\n",
       "      <td>245131.88</td>\n",
       "      <td>137811.38</td>\n",
       "      <td>NaN</td>\n",
       "      <td>538909.28</td>\n",
       "      <td>538909.28</td>\n",
       "      <td>2011</td>\n",
       "      <td>San Francisco</td>\n",
       "      <td>NaN</td>\n",
       "    </tr>\n",
       "    <tr>\n",
       "      <th>2</th>\n",
       "      <td>3</td>\n",
       "      <td>ALBERT PARDINI</td>\n",
       "      <td>CAPTAIN III (POLICE DEPARTMENT)</td>\n",
       "      <td>212739.13</td>\n",
       "      <td>106088.18</td>\n",
       "      <td>16452.60</td>\n",
       "      <td>NaN</td>\n",
       "      <td>335279.91</td>\n",
       "      <td>335279.91</td>\n",
       "      <td>2011</td>\n",
       "      <td>San Francisco</td>\n",
       "      <td>NaN</td>\n",
       "    </tr>\n",
       "    <tr>\n",
       "      <th>3</th>\n",
       "      <td>4</td>\n",
       "      <td>CHRISTOPHER CHONG</td>\n",
       "      <td>WIRE ROPE CABLE MAINTENANCE MECHANIC</td>\n",
       "      <td>77916.00</td>\n",
       "      <td>56120.71</td>\n",
       "      <td>198306.90</td>\n",
       "      <td>NaN</td>\n",
       "      <td>332343.61</td>\n",
       "      <td>332343.61</td>\n",
       "      <td>2011</td>\n",
       "      <td>San Francisco</td>\n",
       "      <td>NaN</td>\n",
       "    </tr>\n",
       "    <tr>\n",
       "      <th>4</th>\n",
       "      <td>5</td>\n",
       "      <td>PATRICK GARDNER</td>\n",
       "      <td>DEPUTY CHIEF OF DEPARTMENT,(FIRE DEPARTMENT)</td>\n",
       "      <td>134401.60</td>\n",
       "      <td>9737.00</td>\n",
       "      <td>182234.59</td>\n",
       "      <td>NaN</td>\n",
       "      <td>326373.19</td>\n",
       "      <td>326373.19</td>\n",
       "      <td>2011</td>\n",
       "      <td>San Francisco</td>\n",
       "      <td>NaN</td>\n",
       "    </tr>\n",
       "  </tbody>\n",
       "</table>\n",
       "</div>"
      ],
      "text/plain": [
       "   Id       EmployeeName                                        JobTitle  \\\n",
       "0   1     NATHANIEL FORD  GENERAL MANAGER-METROPOLITAN TRANSIT AUTHORITY   \n",
       "1   2       GARY JIMENEZ                 CAPTAIN III (POLICE DEPARTMENT)   \n",
       "2   3     ALBERT PARDINI                 CAPTAIN III (POLICE DEPARTMENT)   \n",
       "3   4  CHRISTOPHER CHONG            WIRE ROPE CABLE MAINTENANCE MECHANIC   \n",
       "4   5    PATRICK GARDNER    DEPUTY CHIEF OF DEPARTMENT,(FIRE DEPARTMENT)   \n",
       "\n",
       "     BasePay  OvertimePay   OtherPay  Benefits   TotalPay  TotalPayBenefits  \\\n",
       "0  167411.18         0.00  400184.25       NaN  567595.43         567595.43   \n",
       "1  155966.02    245131.88  137811.38       NaN  538909.28         538909.28   \n",
       "2  212739.13    106088.18   16452.60       NaN  335279.91         335279.91   \n",
       "3   77916.00     56120.71  198306.90       NaN  332343.61         332343.61   \n",
       "4  134401.60      9737.00  182234.59       NaN  326373.19         326373.19   \n",
       "\n",
       "   Year         Agency Status  \n",
       "0  2011  San Francisco    NaN  \n",
       "1  2011  San Francisco    NaN  \n",
       "2  2011  San Francisco    NaN  \n",
       "3  2011  San Francisco    NaN  \n",
       "4  2011  San Francisco    NaN  "
      ]
     },
     "execution_count": 5,
     "metadata": {},
     "output_type": "execute_result"
    }
   ],
   "source": [
    "sal.head()"
   ]
  },
  {
   "cell_type": "markdown",
   "metadata": {
    "id": "XQFBzsh2Lkpb"
   },
   "source": [
    "**Q1: How many columns and rows are there in the dataset?** \n",
    "\n",
    "##### code for reference:\n",
    "sal.shape\n",
    "\n"
   ]
  },
  {
   "cell_type": "code",
   "execution_count": 6,
   "metadata": {
    "id": "5BI-YkCQLlhb"
   },
   "outputs": [
    {
     "data": {
      "text/plain": [
       "(148654, 12)"
      ]
     },
     "execution_count": 6,
     "metadata": {},
     "output_type": "execute_result"
    }
   ],
   "source": [
    "sal.shape"
   ]
  },
  {
   "cell_type": "markdown",
   "metadata": {
    "id": "9WFbJi3LXyUI"
   },
   "source": [
    "**Q2: What the average of total pay ['TotalPay'] of San Francisco’s city employees?**\n",
    "\n",
    "##### code for reference:\n",
    "You can either use:\n",
    "\n",
    "sal.desribe() or \n",
    "\n",
    "sal[\"TotalPay\"].mean()"
   ]
  },
  {
   "cell_type": "code",
   "execution_count": 7,
   "metadata": {
    "id": "g02CInrZXyUI"
   },
   "outputs": [
    {
     "data": {
      "text/plain": [
       "74768.321971703"
      ]
     },
     "execution_count": 7,
     "metadata": {},
     "output_type": "execute_result"
    }
   ],
   "source": [
    "sal[\"TotalPay\"].mean()"
   ]
  },
  {
   "cell_type": "markdown",
   "metadata": {
    "id": "LmDMpshKXyUK"
   },
   "source": [
    "\n",
    "\n",
    "\n",
    "**Q3: What is the maximum benefit received by a city employee?** \n",
    "\n",
    "##### code for reference:\n",
    "\n",
    "sal.desribe()  or \n",
    "\n",
    "sal['Benefits'].max()"
   ]
  },
  {
   "cell_type": "code",
   "execution_count": 8,
   "metadata": {
    "id": "1LnJ5W5kXyUL"
   },
   "outputs": [
    {
     "data": {
      "text/plain": [
       "567595.43"
      ]
     },
     "execution_count": 8,
     "metadata": {},
     "output_type": "execute_result"
    }
   ],
   "source": [
    "sal['TotalPay'].max()"
   ]
  },
  {
   "cell_type": "markdown",
   "metadata": {
    "id": "JNK1N0z4XyUN"
   },
   "source": [
    "**Q4: How much benefits did JOSEPH DRISCOLL receive?** (Hint: Use 'TotalPayBenefits' variable)\n",
    "\n",
    "##### code for reference:\n",
    "sal[sal['EmployeeName']=='JOSEPH DRISCOLL']['TotalPayBenefits']"
   ]
  },
  {
   "cell_type": "code",
   "execution_count": 15,
   "metadata": {
    "id": "X3YgXGJHXyUN"
   },
   "outputs": [
    {
     "data": {
      "text/plain": [
       "24    270324.91\n",
       "Name: TotalPayBenefits, dtype: float64"
      ]
     },
     "execution_count": 15,
     "metadata": {},
     "output_type": "execute_result"
    }
   ],
   "source": [
    "sal[sal['EmployeeName']=='JOSEPH DRISCOLL']['TotalPayBenefits']"
   ]
  },
  {
   "cell_type": "markdown",
   "metadata": {
    "id": "pYKBxtlwIXLg"
   },
   "source": [
    "**Q5: What is the average ’total benefits’ received by Special Nurse?**\n",
    "\n",
    "##### code for reference\n",
    "sal[sal['JobTitle']=='Special Nurse']['TotalPayBenefits'].mean()"
   ]
  },
  {
   "cell_type": "code",
   "execution_count": 9,
   "metadata": {
    "id": "2u0VW7n-Ih8C"
   },
   "outputs": [
    {
     "data": {
      "text/plain": [
       "36372.276962861666"
      ]
     },
     "execution_count": 9,
     "metadata": {},
     "output_type": "execute_result"
    }
   ],
   "source": [
    "sal[sal['JobTitle']=='Special Nurse']['TotalPayBenefits'].mean()"
   ]
  },
  {
   "cell_type": "markdown",
   "metadata": {
    "id": "91vkh77HMIcL"
   },
   "source": [
    "**Q6: What is the name of the employee in the 3500th record?**\n",
    "\n",
    "##### code for reference\n",
    "sal.iloc[ ]"
   ]
  },
  {
   "cell_type": "code",
   "execution_count": 11,
   "metadata": {
    "id": "5_RMEkPFhCGk"
   },
   "outputs": [
    {
     "data": {
      "text/html": [
       "<div>\n",
       "<style scoped>\n",
       "    .dataframe tbody tr th:only-of-type {\n",
       "        vertical-align: middle;\n",
       "    }\n",
       "\n",
       "    .dataframe tbody tr th {\n",
       "        vertical-align: top;\n",
       "    }\n",
       "\n",
       "    .dataframe thead th {\n",
       "        text-align: right;\n",
       "    }\n",
       "</style>\n",
       "<table border=\"1\" class=\"dataframe\">\n",
       "  <thead>\n",
       "    <tr style=\"text-align: right;\">\n",
       "      <th></th>\n",
       "      <th>Id</th>\n",
       "      <th>EmployeeName</th>\n",
       "      <th>JobTitle</th>\n",
       "      <th>BasePay</th>\n",
       "      <th>OvertimePay</th>\n",
       "      <th>OtherPay</th>\n",
       "      <th>Benefits</th>\n",
       "      <th>TotalPay</th>\n",
       "      <th>TotalPayBenefits</th>\n",
       "      <th>Year</th>\n",
       "      <th>Agency</th>\n",
       "      <th>Status</th>\n",
       "    </tr>\n",
       "  </thead>\n",
       "  <tbody>\n",
       "    <tr>\n",
       "      <th>0</th>\n",
       "      <td>1</td>\n",
       "      <td>NATHANIEL FORD</td>\n",
       "      <td>GENERAL MANAGER-METROPOLITAN TRANSIT AUTHORITY</td>\n",
       "      <td>167411.18</td>\n",
       "      <td>0.00</td>\n",
       "      <td>400184.25</td>\n",
       "      <td>NaN</td>\n",
       "      <td>567595.43</td>\n",
       "      <td>567595.43</td>\n",
       "      <td>2011</td>\n",
       "      <td>San Francisco</td>\n",
       "      <td>NaN</td>\n",
       "    </tr>\n",
       "    <tr>\n",
       "      <th>1</th>\n",
       "      <td>2</td>\n",
       "      <td>GARY JIMENEZ</td>\n",
       "      <td>CAPTAIN III (POLICE DEPARTMENT)</td>\n",
       "      <td>155966.02</td>\n",
       "      <td>245131.88</td>\n",
       "      <td>137811.38</td>\n",
       "      <td>NaN</td>\n",
       "      <td>538909.28</td>\n",
       "      <td>538909.28</td>\n",
       "      <td>2011</td>\n",
       "      <td>San Francisco</td>\n",
       "      <td>NaN</td>\n",
       "    </tr>\n",
       "    <tr>\n",
       "      <th>2</th>\n",
       "      <td>3</td>\n",
       "      <td>ALBERT PARDINI</td>\n",
       "      <td>CAPTAIN III (POLICE DEPARTMENT)</td>\n",
       "      <td>212739.13</td>\n",
       "      <td>106088.18</td>\n",
       "      <td>16452.60</td>\n",
       "      <td>NaN</td>\n",
       "      <td>335279.91</td>\n",
       "      <td>335279.91</td>\n",
       "      <td>2011</td>\n",
       "      <td>San Francisco</td>\n",
       "      <td>NaN</td>\n",
       "    </tr>\n",
       "    <tr>\n",
       "      <th>3</th>\n",
       "      <td>4</td>\n",
       "      <td>CHRISTOPHER CHONG</td>\n",
       "      <td>WIRE ROPE CABLE MAINTENANCE MECHANIC</td>\n",
       "      <td>77916.00</td>\n",
       "      <td>56120.71</td>\n",
       "      <td>198306.90</td>\n",
       "      <td>NaN</td>\n",
       "      <td>332343.61</td>\n",
       "      <td>332343.61</td>\n",
       "      <td>2011</td>\n",
       "      <td>San Francisco</td>\n",
       "      <td>NaN</td>\n",
       "    </tr>\n",
       "    <tr>\n",
       "      <th>4</th>\n",
       "      <td>5</td>\n",
       "      <td>PATRICK GARDNER</td>\n",
       "      <td>DEPUTY CHIEF OF DEPARTMENT,(FIRE DEPARTMENT)</td>\n",
       "      <td>134401.60</td>\n",
       "      <td>9737.00</td>\n",
       "      <td>182234.59</td>\n",
       "      <td>NaN</td>\n",
       "      <td>326373.19</td>\n",
       "      <td>326373.19</td>\n",
       "      <td>2011</td>\n",
       "      <td>San Francisco</td>\n",
       "      <td>NaN</td>\n",
       "    </tr>\n",
       "    <tr>\n",
       "      <th>...</th>\n",
       "      <td>...</td>\n",
       "      <td>...</td>\n",
       "      <td>...</td>\n",
       "      <td>...</td>\n",
       "      <td>...</td>\n",
       "      <td>...</td>\n",
       "      <td>...</td>\n",
       "      <td>...</td>\n",
       "      <td>...</td>\n",
       "      <td>...</td>\n",
       "      <td>...</td>\n",
       "      <td>...</td>\n",
       "    </tr>\n",
       "    <tr>\n",
       "      <th>3495</th>\n",
       "      <td>3496</td>\n",
       "      <td>TIMOTHY LIPPS</td>\n",
       "      <td>TRANSIT POWER LINE WORKER SUPERVISOR II</td>\n",
       "      <td>107916.00</td>\n",
       "      <td>25657.52</td>\n",
       "      <td>2233.00</td>\n",
       "      <td>NaN</td>\n",
       "      <td>135806.52</td>\n",
       "      <td>135806.52</td>\n",
       "      <td>2011</td>\n",
       "      <td>San Francisco</td>\n",
       "      <td>NaN</td>\n",
       "    </tr>\n",
       "    <tr>\n",
       "      <th>3496</th>\n",
       "      <td>3497</td>\n",
       "      <td>GARY ALTENBERG</td>\n",
       "      <td>FIREFIGHTER</td>\n",
       "      <td>123028.00</td>\n",
       "      <td>5065.76</td>\n",
       "      <td>7691.20</td>\n",
       "      <td>NaN</td>\n",
       "      <td>135784.96</td>\n",
       "      <td>135784.96</td>\n",
       "      <td>2011</td>\n",
       "      <td>San Francisco</td>\n",
       "      <td>NaN</td>\n",
       "    </tr>\n",
       "    <tr>\n",
       "      <th>3497</th>\n",
       "      <td>3498</td>\n",
       "      <td>DANIEL EVERSON</td>\n",
       "      <td>INSPECTOR III, (POLICE DEPARTMENT)</td>\n",
       "      <td>130481.58</td>\n",
       "      <td>489.89</td>\n",
       "      <td>4812.88</td>\n",
       "      <td>NaN</td>\n",
       "      <td>135784.35</td>\n",
       "      <td>135784.35</td>\n",
       "      <td>2011</td>\n",
       "      <td>San Francisco</td>\n",
       "      <td>NaN</td>\n",
       "    </tr>\n",
       "    <tr>\n",
       "      <th>3498</th>\n",
       "      <td>3499</td>\n",
       "      <td>LAWRENCE LAU</td>\n",
       "      <td>MAINTENANCE MACHINIST</td>\n",
       "      <td>74651.50</td>\n",
       "      <td>56722.22</td>\n",
       "      <td>4390.00</td>\n",
       "      <td>NaN</td>\n",
       "      <td>135763.72</td>\n",
       "      <td>135763.72</td>\n",
       "      <td>2011</td>\n",
       "      <td>San Francisco</td>\n",
       "      <td>NaN</td>\n",
       "    </tr>\n",
       "    <tr>\n",
       "      <th>3499</th>\n",
       "      <td>3500</td>\n",
       "      <td>DANNY LOPEZ</td>\n",
       "      <td>SERGEANT III (POLICE DEPARTMENT)</td>\n",
       "      <td>130457.64</td>\n",
       "      <td>943.62</td>\n",
       "      <td>4340.11</td>\n",
       "      <td>NaN</td>\n",
       "      <td>135741.37</td>\n",
       "      <td>135741.37</td>\n",
       "      <td>2011</td>\n",
       "      <td>San Francisco</td>\n",
       "      <td>NaN</td>\n",
       "    </tr>\n",
       "  </tbody>\n",
       "</table>\n",
       "<p>3500 rows × 12 columns</p>\n",
       "</div>"
      ],
      "text/plain": [
       "        Id       EmployeeName                                        JobTitle  \\\n",
       "0        1     NATHANIEL FORD  GENERAL MANAGER-METROPOLITAN TRANSIT AUTHORITY   \n",
       "1        2       GARY JIMENEZ                 CAPTAIN III (POLICE DEPARTMENT)   \n",
       "2        3     ALBERT PARDINI                 CAPTAIN III (POLICE DEPARTMENT)   \n",
       "3        4  CHRISTOPHER CHONG            WIRE ROPE CABLE MAINTENANCE MECHANIC   \n",
       "4        5    PATRICK GARDNER    DEPUTY CHIEF OF DEPARTMENT,(FIRE DEPARTMENT)   \n",
       "...    ...                ...                                             ...   \n",
       "3495  3496      TIMOTHY LIPPS         TRANSIT POWER LINE WORKER SUPERVISOR II   \n",
       "3496  3497     GARY ALTENBERG                                     FIREFIGHTER   \n",
       "3497  3498     DANIEL EVERSON              INSPECTOR III, (POLICE DEPARTMENT)   \n",
       "3498  3499       LAWRENCE LAU                           MAINTENANCE MACHINIST   \n",
       "3499  3500        DANNY LOPEZ                SERGEANT III (POLICE DEPARTMENT)   \n",
       "\n",
       "        BasePay  OvertimePay   OtherPay  Benefits   TotalPay  \\\n",
       "0     167411.18         0.00  400184.25       NaN  567595.43   \n",
       "1     155966.02    245131.88  137811.38       NaN  538909.28   \n",
       "2     212739.13    106088.18   16452.60       NaN  335279.91   \n",
       "3      77916.00     56120.71  198306.90       NaN  332343.61   \n",
       "4     134401.60      9737.00  182234.59       NaN  326373.19   \n",
       "...         ...          ...        ...       ...        ...   \n",
       "3495  107916.00     25657.52    2233.00       NaN  135806.52   \n",
       "3496  123028.00      5065.76    7691.20       NaN  135784.96   \n",
       "3497  130481.58       489.89    4812.88       NaN  135784.35   \n",
       "3498   74651.50     56722.22    4390.00       NaN  135763.72   \n",
       "3499  130457.64       943.62    4340.11       NaN  135741.37   \n",
       "\n",
       "      TotalPayBenefits  Year         Agency Status  \n",
       "0            567595.43  2011  San Francisco    NaN  \n",
       "1            538909.28  2011  San Francisco    NaN  \n",
       "2            335279.91  2011  San Francisco    NaN  \n",
       "3            332343.61  2011  San Francisco    NaN  \n",
       "4            326373.19  2011  San Francisco    NaN  \n",
       "...                ...   ...            ...    ...  \n",
       "3495         135806.52  2011  San Francisco    NaN  \n",
       "3496         135784.96  2011  San Francisco    NaN  \n",
       "3497         135784.35  2011  San Francisco    NaN  \n",
       "3498         135763.72  2011  San Francisco    NaN  \n",
       "3499         135741.37  2011  San Francisco    NaN  \n",
       "\n",
       "[3500 rows x 12 columns]"
      ]
     },
     "execution_count": 11,
     "metadata": {},
     "output_type": "execute_result"
    }
   ],
   "source": [
    "sal.iloc[:3500]"
   ]
  },
  {
   "cell_type": "code",
   "execution_count": null,
   "metadata": {},
   "outputs": [],
   "source": []
  },
  {
   "cell_type": "markdown",
   "metadata": {
    "id": "g9cB-Uy3hCGk"
   },
   "source": [
    "**Q7: How many missing values does variable 'BasePay' have?** \n",
    "\n",
    "##### code for reference\n",
    "\n",
    "sal.isnull().sum()"
   ]
  },
  {
   "cell_type": "code",
   "execution_count": 18,
   "metadata": {
    "id": "V1m_9lbmhCGk"
   },
   "outputs": [
    {
     "data": {
      "text/plain": [
       "Id                       0\n",
       "EmployeeName             6\n",
       "JobTitle                 4\n",
       "BasePay                609\n",
       "OvertimePay              4\n",
       "OtherPay                 4\n",
       "Benefits             36163\n",
       "TotalPay                 0\n",
       "TotalPayBenefits         0\n",
       "Year                     0\n",
       "Agency                   0\n",
       "Status              110535\n",
       "dtype: int64"
      ]
     },
     "execution_count": 18,
     "metadata": {},
     "output_type": "execute_result"
    }
   ],
   "source": [
    "sal.isnull().sum()"
   ]
  },
  {
   "cell_type": "markdown",
   "metadata": {
    "id": "5ijNpll4hCGk"
   },
   "source": [
    "**Q8: Create a boxplot of TotalPay variable across different job status (Status). Which of the following statements is NOT true?** \n",
    "\n",
    "##### code for reference\n",
    "sns.boxplot(x=,y=,data=)"
   ]
  },
  {
   "cell_type": "code",
   "execution_count": 23,
   "metadata": {
    "id": "1eQP2R0MhCGk"
   },
   "outputs": [
    {
     "data": {
      "text/plain": [
       "<AxesSubplot:xlabel='Status', ylabel='TotalPay'>"
      ]
     },
     "execution_count": 23,
     "metadata": {},
     "output_type": "execute_result"
    },
    {
     "data": {
      "image/png": "[encoded data removed]",
      "text/plain": [
       "<Figure size 640x480 with 1 Axes>"
      ]
     },
     "metadata": {},
     "output_type": "display_data"
    }
   ],
   "source": [
    "sns.boxplot(x='Status',y='TotalPay',data=sal)"
   ]
  },
  {
   "cell_type": "markdown",
   "metadata": {
    "id": "kNVh3TzfhCGl"
   },
   "source": [
    "**Q9: Create a boxplot of BasePay variable across different years (Year variable). Which of the following statement is NOT true?** \n",
    "##### code for reference \n",
    "sns.boxplot(x=,y=,data=)"
   ]
  },
  {
   "cell_type": "code",
   "execution_count": 24,
   "metadata": {
    "id": "3SSgEYnNhCGl"
   },
   "outputs": [
    {
     "data": {
      "text/plain": [
       "<AxesSubplot:xlabel='Year', ylabel='BasePay'>"
      ]
     },
     "execution_count": 24,
     "metadata": {},
     "output_type": "execute_result"
    },
    {
     "data": {
      "image/png": "[encoded data removed]",
      "text/plain": [
       "<Figure size 640x480 with 1 Axes>"
      ]
     },
     "metadata": {},
     "output_type": "display_data"
    }
   ],
   "source": [
    "sns.boxplot(x='Year',y='BasePay',data=sal)"
   ]
  },
  {
   "cell_type": "markdown",
   "metadata": {
    "id": "BDXkr71ehCGl"
   },
   "source": [
    "**Q10: Create a histogram for TotalPay variable. Which of the following statement is NOT true?** \n",
    "\n",
    "##### code for reference \n",
    "sns.histplot(sal['variable name here'])"
   ]
  },
  {
   "cell_type": "code",
   "execution_count": 25,
   "metadata": {
    "id": "jdepTsdJhCGl"
   },
   "outputs": [
    {
     "data": {
      "text/plain": [
       "<AxesSubplot:xlabel='TotalPay', ylabel='Count'>"
      ]
     },
     "execution_count": 25,
     "metadata": {},
     "output_type": "execute_result"
    },
    {
     "data": {
      "image/png": "[encoded data removed]",
      "text/plain": [
       "<Figure size 640x480 with 1 Axes>"
      ]
     },
     "metadata": {},
     "output_type": "display_data"
    }
   ],
   "source": [
    "sns.histplot(sal['TotalPay'])"
   ]
  }
 ],
 "metadata": {
  "colab": {
   "name": "Week 1 Exercise_SF Salaries Student Version.ipynb",
   "provenance": [],
   "toc_visible": true
  },
  "kernelspec": {
   "display_name": "Python 3 (ipykernel)",
   "language": "python",
   "name": "python3"
  },
  "language_info": {
   "codemirror_mode": {
    "name": "ipython",
    "version": 3
   },
   "file_extension": ".py",
   "mimetype": "text/x-python",
   "name": "python",
   "nbconvert_exporter": "python",
   "pygments_lexer": "ipython3",
   "version": "3.9.13"
  }
 },
 "nbformat": 4,
 "nbformat_minor": 1
}
